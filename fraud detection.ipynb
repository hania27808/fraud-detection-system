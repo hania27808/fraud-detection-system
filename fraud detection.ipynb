{
 "cells": [
  {
   "cell_type": "code",
   "execution_count": 1,
   "id": "81b665eb-d965-46cc-9c0d-0f25b4737421",
   "metadata": {},
   "outputs": [],
   "source": [
    "import pandas as pd\n",
    "from sklearn.model_selection import train_test_split\n",
    "from sklearn.preprocessing import StandardScaler\n",
    "from sklearn.ensemble import RandomForestClassifier\n",
    "from sklearn.metrics import classification_report\n",
    "from collections import Counter"
   ]
  },
  {
   "cell_type": "code",
   "execution_count": 2,
   "id": "d59d26ba-ebba-497c-9b82-3af5cdec9963",
   "metadata": {},
   "outputs": [],
   "source": [
    "# 1. Load Dataset\n",
    "df = pd.read_csv(\"creditcard.csv\")\n",
    "\n",
    "# 2. Preprocessing\n",
    "X = df.drop(columns=['Class'])\n",
    "y = df['Class']\n",
    "\n",
    "# Scale 'Time' and 'Amount' columns\n",
    "scaler = StandardScaler()\n",
    "X[['Time', 'Amount']] = scaler.fit_transform(X[['Time', 'Amount']])"
   ]
  },
  {
   "cell_type": "code",
   "execution_count": 3,
   "id": "08db5219-c2ae-4934-9380-a359e6412974",
   "metadata": {},
   "outputs": [],
   "source": [
    "# Split data\n",
    "X_train, X_test, y_train, y_test = train_test_split(\n",
    "    X, y, test_size=0.3, random_state=42, stratify=y\n",
    ")\n",
    "\n",
    "# 3. Handle Class Imbalance: Undersample majority class (Class 0)\n",
    "fraud = df[df['Class'] == 1]\n",
    "non_fraud = df[df['Class'] == 0].sample(n=len(fraud), random_state=42)\n",
    "\n",
    "df_balanced = pd.concat([fraud, non_fraud])\n",
    "X_bal = df_balanced.drop(columns=['Class'])\n",
    "y_bal = df_balanced['Class']\n",
    "X_bal[['Time', 'Amount']] = scaler.transform(X_bal[['Time', 'Amount']])"
   ]
  },
  {
   "cell_type": "code",
   "execution_count": 7,
   "id": "c0503b22-4bc8-4bb5-8b48-c76403b07708",
   "metadata": {},
   "outputs": [
    {
     "name": "stdout",
     "output_type": "stream",
     "text": [
      "\n",
      "=== Classification Report ===\n",
      "              precision    recall  f1-score   support\n",
      "\n",
      "           0     1.0000    0.9749    0.9873     85295\n",
      "           1     0.0646    1.0000    0.1214       148\n",
      "\n",
      "    accuracy                         0.9749     85443\n",
      "   macro avg     0.5323    0.9874    0.5543     85443\n",
      "weighted avg     0.9984    0.9749    0.9858     85443\n",
      "\n"
     ]
    }
   ],
   "source": [
    "# 4. Train Model\n",
    "model = RandomForestClassifier(random_state=42)\n",
    "model.fit(X_bal, y_bal)\n",
    "\n",
    "# 5. Evaluation on real test set\n",
    "y_pred = model.predict(X_test)\n",
    "print(\"\\n=== Classification Report ===\")\n",
    "print(classification_report(y_test, y_pred, digits=4))"
   ]
  },
  {
   "cell_type": "code",
   "execution_count": 8,
   "id": "ff885e56-8709-47d2-ab5b-ecb14da54a04",
   "metadata": {},
   "outputs": [
    {
     "name": "stdout",
     "output_type": "stream",
     "text": [
      "\n",
      "--- Simulated Test Transaction ---\n",
      "Predicted Class: 🟢 LEGIT\n"
     ]
    },
    {
     "name": "stderr",
     "output_type": "stream",
     "text": [
      "C:\\anaconda\\Lib\\site-packages\\sklearn\\base.py:493: UserWarning: X does not have valid feature names, but RandomForestClassifier was fitted with feature names\n",
      "  warnings.warn(\n"
     ]
    }
   ],
   "source": [
    "# Simulate one transaction from the test data\n",
    "sample_transaction = X_test.iloc[0].values.reshape(1, -1)  # Taking the first transaction\n",
    "predicted_class = model.predict(sample_transaction)[0]\n",
    "\n",
    "print(\"\\n--- Simulated Test Transaction ---\")\n",
    "print(\"Predicted Class:\", \"🔴 FRAUD\" if predicted_class == 1 else \"🟢 LEGIT\")"
   ]
  },
  {
   "cell_type": "code",
   "execution_count": null,
   "id": "623e1739-5ac7-4a05-a0a0-cce1c6c4e506",
   "metadata": {},
   "outputs": [],
   "source": []
  }
 ],
 "metadata": {
  "kernelspec": {
   "display_name": "Python 3 (ipykernel)",
   "language": "python",
   "name": "python3"
  },
  "language_info": {
   "codemirror_mode": {
    "name": "ipython",
    "version": 3
   },
   "file_extension": ".py",
   "mimetype": "text/x-python",
   "name": "python",
   "nbconvert_exporter": "python",
   "pygments_lexer": "ipython3",
   "version": "3.12.7"
  }
 },
 "nbformat": 4,
 "nbformat_minor": 5
}
